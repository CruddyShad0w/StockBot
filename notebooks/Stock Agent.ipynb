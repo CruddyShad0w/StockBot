{
 "cells": [
  {
   "cell_type": "code",
   "execution_count": 1,
   "metadata": {},
   "outputs": [
    {
     "name": "stdout",
     "output_type": "stream",
     "text": [
      "Help on package alpaca_trade_api:\n",
      "\n",
      "NAME\n",
      "    alpaca_trade_api\n",
      "\n",
      "PACKAGE CONTENTS\n",
      "    __main__\n",
      "    common\n",
      "    entity\n",
      "    polygon (package)\n",
      "    rest\n",
      "    stream\n",
      "    stream2\n",
      "\n",
      "VERSION\n",
      "    0.26\n",
      "\n",
      "FILE\n",
      "    c:\\users\\kyle\\anaconda3\\lib\\site-packages\\alpaca_trade_api\\__init__.py\n",
      "\n",
      "\n",
      "None\n"
     ]
    }
   ],
   "source": [
    "import alpaca_trade_api as tradeapi\n",
    "import matplotlib.pyplot as plt\n",
    "print(help(tradeapi))"
   ]
  },
  {
   "cell_type": "markdown",
   "metadata": {},
   "source": [
    "# Trading bot using Naive_bayes for decision making\n",
    "We will build a trading bot using alpaca api and a single machine learning method to make trading decisions. \n",
    "This will be a long term trading bot not a HFT or day trading bot.\n",
    "\n",
    "Alpaca Dashboard: \n",
    "https://app.alpaca.markets/paper/dashboard/overview"
   ]
  },
  {
   "cell_type": "markdown",
   "metadata": {},
   "source": [
    "# Agent\n",
    "Sources:\n",
    "\n",
    "https://github.com/alpacahq/alpaca-trade-api-python \n",
    "\n",
    "https://docs.alpaca.markets/api-documentation/\n",
    "\n",
    "https://hackernoon.com/easily-build-a-stock-trading-bot-using-broker-api-6bfbdc8d48c9\n",
    "\n",
    "To Do List:\n",
    "- [x] Connect to api\n",
    "- [X] Make a trade\n",
    "- [X] Make a bot to do a few trades during the day\n",
    "- [ ] Check that bot is working properly after a few days\n"
   ]
  },
  {
   "cell_type": "code",
   "execution_count": 2,
   "metadata": {
    "scrolled": true
   },
   "outputs": [
    {
     "name": "stdout",
     "output_type": "stream",
     "text": [
      "Status:  ACTIVE\n",
      "Cash: $ 99432.06\n",
      "Clock:  Clock({   'is_open': False,\n",
      "    'next_close': '2019-03-12T16:00:00-04:00',\n",
      "    'next_open': '2019-03-12T09:30:00-04:00',\n",
      "    'timestamp': '2019-03-12T00:45:30.371043468-04:00'})\n"
     ]
    }
   ],
   "source": [
    "class Agent():\n",
    "    def __init__(self):\n",
    "        base_url = 'https://paper-api.alpaca.markets'\n",
    "        api_key_id = ''\n",
    "        api_secret = ''\n",
    "\n",
    "        self.api = tradeapi.REST(\n",
    "            base_url=base_url,\n",
    "            key_id=api_key_id,\n",
    "            secret_key=api_secret\n",
    "        )\n",
    "        self.account = self.api.get_account()\n",
    "        self.assets = self.api.list_assets()\n",
    "        print(\"Status: \", self.account.status)\n",
    "        print(\"Cash: $\", self.account.cash)\n",
    "        print('Clock: ', self.api.get_clock())\n",
    "\n",
    "    \n",
    "    def status(self):\n",
    "        '''\n",
    "        Return:\n",
    "            - Displays status of agent\n",
    "        '''\n",
    "        print('Market Status: ', self.api.get_clock())\n",
    "        print(\"Status: \", self.account.status)\n",
    "        print(\"Positions: \", self.api.list_positions())\n",
    "        \n",
    "    def get_stock_status(self, symbol):\n",
    "        for exchange in self.assets:\n",
    "            if exchange.symbol == symbol:\n",
    "                print(exchange)\n",
    "                \n",
    "    def get_orders(self):\n",
    "        '''\n",
    "        Return: \n",
    "            - List of currently placed orders\n",
    "        '''\n",
    "        return self.api.list_orders()\n",
    "    \n",
    "    def get_positions(self):\n",
    "        '''\n",
    "        Return: \n",
    "            - List of currently owned positions\n",
    "        '''\n",
    "        return self.api.list_positions()\n",
    "        \n",
    "        \n",
    "    def get_stock_history(self, symbol, time):\n",
    "        '''\n",
    "        Parameters:\n",
    "            symbol - stock symbol for lookupo\n",
    "            time - time symbol (e.g minute, 1Min, 5Min, 15Min, day or 1D. minute)\n",
    "        Return:\n",
    "            - displays plots of Open vs Close, High vs Low      \n",
    "        '''\n",
    "        tsla_data = self.api.get_barset(symbol , time, limit = 100).df['TSLA']\n",
    "        tsla_data['open'].plot()\n",
    "        tsla_data['close'].plot()\n",
    "        plt.title('open vs close')\n",
    "        plt.show()\n",
    "        tsla_data['high'].plot()\n",
    "        tsla_data['low'].plot()\n",
    "        plt.title('High vs Low')\n",
    "        plt.show()   \n",
    "        \n",
    "    def order(self, symbol, quantity, time_in_force):\n",
    "        '''\n",
    "        Parameters:\n",
    "            symbol - stock symbol for lookupo\n",
    "            quantity - how many stocks you are buying\n",
    "            time_in_force - Order type\n",
    "                1. dat: The order is good for the day, and it will be canceled automatically at the end of Regular Trading Hours if unfilled.\n",
    "                2. gtc: The order is good until canceled.\n",
    "                3. opg: The order is placed at the time the market opens. The order will be accepted if it is received before 9:15AM (ET). \n",
    "                        The order can be cancelled after 9:15AM, but it cannot be edited. After 9:28AM, OPG orders cannot be edited or cancelled.\n",
    "                        Any unfilled orders after opening of the market will be cancelled. \n",
    "                        If you submit OPG orders during the market hours, it will appear as “rejected” in your dashboard.\n",
    "        Return:\n",
    "            order - contents and status of the order placed witht the call\n",
    "        '''\n",
    "        order = self.api.submit_order(symbol, quantity,'buy','market',time_in_force)\n",
    "        return order\n",
    "    \n",
    "    def sell(self, symbol, quantity, time_in_force):\n",
    "        '''\n",
    "        Parameters:\n",
    "            symbol - stock symbol for lookupo\n",
    "            quantity - how many stocks you are buying\n",
    "            time_in_force - Order type\n",
    "                1. dat\n",
    "                2. gtc\n",
    "                3. opg\n",
    "        Return:\n",
    "            order - contents and status of the order placed witht the call\n",
    "        '''\n",
    "        try:\n",
    "            openPosition = self.api.get_position(symbol)\n",
    "            order = self.api.submit_order(symbol, openPosition,'sell','market',time_in_force)\n",
    "            return order\n",
    "        except:\n",
    "            print(\"No position to sell\")\n",
    "            return null\n",
    "\n",
    "agent = Agent()"
   ]
  },
  {
   "cell_type": "code",
   "execution_count": 24,
   "metadata": {},
   "outputs": [
    {
     "name": "stdout",
     "output_type": "stream",
     "text": [
      "Market Status:  Clock({   'is_open': False,\n",
      "    'next_close': '2019-03-12T16:00:00-04:00',\n",
      "    'next_open': '2019-03-12T09:30:00-04:00',\n",
      "    'timestamp': '2019-03-12T03:27:14.366706536-04:00'})\n",
      "Status:  ACTIVE\n",
      "Positions:  [Position({   'asset_class': 'us_equity',\n",
      "    'asset_id': '8ccae427-5dd0-45b3-b5fe-7ba5e422c766',\n",
      "    'avg_entry_price': '283.97',\n",
      "    'change_today': '0.0215394361735825',\n",
      "    'cost_basis': '567.94',\n",
      "    'current_price': '290.25',\n",
      "    'exchange': 'NASDAQ',\n",
      "    'lastday_price': '284.13',\n",
      "    'market_value': '580.5',\n",
      "    'qty': '2',\n",
      "    'side': 'long',\n",
      "    'symbol': 'TSLA',\n",
      "    'unrealized_intraday_pl': '12.56',\n",
      "    'unrealized_intraday_plpc': '0.0221150121491707',\n",
      "    'unrealized_pl': '12.56',\n",
      "    'unrealized_plpc': '0.0221150121491707'})]\n",
      "Asset({   'asset_class': 'us_equity',\n",
      "    'exchange': 'NASDAQ',\n",
      "    'id': '8ccae427-5dd0-45b3-b5fe-7ba5e422c766',\n",
      "    'status': 'active',\n",
      "    'symbol': 'TSLA',\n",
      "    'tradable': True})\n"
     ]
    }
   ],
   "source": [
    "agent.status()\n",
    "agent.get_stock_status('TSLA')\n"
   ]
  },
  {
   "cell_type": "code",
   "execution_count": 8,
   "metadata": {},
   "outputs": [],
   "source": [
    "checked = []\n",
    "for order in agent.get_orders():\n",
    "    if order.symbol not in checked:\n",
    "        agent.get_stock_history(order.symbol , 'minute')\n",
    "    checked.append(order.symbol)"
   ]
  },
  {
   "cell_type": "code",
   "execution_count": 2,
   "metadata": {},
   "outputs": [],
   "source": [
    "        base_url = 'https://paper-api.alpaca.markets'\n",
    "        api_key_id = ''\n",
    "        api_secret = ''\n",
    "\n",
    "        api = tradeapi.REST(\n",
    "            base_url=base_url,\n",
    "            key_id=api_key_id,\n",
    "            secret_key=api_secret\n",
    "        )"
   ]
  },
  {
   "cell_type": "code",
   "execution_count": 5,
   "metadata": {
    "scrolled": true
   },
   "outputs": [
    {
     "data": {
      "text/plain": [
       "[Position({   'asset_class': 'us_equity',\n",
       "     'asset_id': 'afe4f758-cc7f-479c-ac3f-822f8bc1bac9',\n",
       "     'avg_entry_price': '5',\n",
       "     'change_today': '-0.0189035916824197',\n",
       "     'cost_basis': '3340',\n",
       "     'current_price': '5.19',\n",
       "     'exchange': 'AMEX',\n",
       "     'lastday_price': '5.29',\n",
       "     'market_value': '3466.92',\n",
       "     'qty': '668',\n",
       "     'side': 'long',\n",
       "     'symbol': 'MNI',\n",
       "     'unrealized_intraday_pl': '126.92',\n",
       "     'unrealized_intraday_plpc': '0.038',\n",
       "     'unrealized_pl': '126.92',\n",
       "     'unrealized_plpc': '0.038'}), Position({   'asset_class': 'us_equity',\n",
       "     'asset_id': '62de9db8-8f08-4bcb-ab1b-27a7dd142cc6',\n",
       "     'avg_entry_price': '13.6',\n",
       "     'change_today': '0.0395522388059701',\n",
       "     'cost_basis': '9071.2',\n",
       "     'current_price': '13.93',\n",
       "     'exchange': 'NYSE',\n",
       "     'lastday_price': '13.4',\n",
       "     'market_value': '9291.31',\n",
       "     'qty': '667',\n",
       "     'side': 'long',\n",
       "     'symbol': 'ITCB',\n",
       "     'unrealized_intraday_pl': '220.11',\n",
       "     'unrealized_intraday_plpc': '0.0242647058823529',\n",
       "     'unrealized_pl': '220.11',\n",
       "     'unrealized_plpc': '0.0242647058823529'}), Position({   'asset_class': 'us_equity',\n",
       "     'asset_id': '214ef601-1056-4f15-a813-98ba87789b9a',\n",
       "     'avg_entry_price': '3.8010396975425331',\n",
       "     'change_today': '-0.2134831460674157',\n",
       "     'cost_basis': '6032.25',\n",
       "     'current_price': '3.5',\n",
       "     'exchange': 'NASDAQ',\n",
       "     'lastday_price': '4.45',\n",
       "     'market_value': '5554.5',\n",
       "     'qty': '1587',\n",
       "     'side': 'long',\n",
       "     'symbol': 'CHFS',\n",
       "     'unrealized_intraday_pl': '-477.75',\n",
       "     'unrealized_intraday_plpc': '-0.0791993037423847',\n",
       "     'unrealized_pl': '-477.75',\n",
       "     'unrealized_plpc': '-0.0791993037423847'})]"
      ]
     },
     "execution_count": 5,
     "metadata": {},
     "output_type": "execute_result"
    }
   ],
   "source": [
    "api.list_positions()"
   ]
  },
  {
   "cell_type": "code",
   "execution_count": 36,
   "metadata": {},
   "outputs": [
    {
     "data": {
      "text/plain": [
       "Order({   'asset_class': 'us_equity',\n",
       "    'asset_id': '8ccae427-5dd0-45b3-b5fe-7ba5e422c766',\n",
       "    'canceled_at': None,\n",
       "    'client_order_id': '008e7320-5b09-4651-8e1f-b05ef67bb312',\n",
       "    'created_at': '2019-03-12T07:59:15.542790654Z',\n",
       "    'expired_at': None,\n",
       "    'failed_at': None,\n",
       "    'filled_at': None,\n",
       "    'filled_avg_price': None,\n",
       "    'filled_qty': '0',\n",
       "    'id': '31f97922-65b3-4cca-a4db-888054c79d45',\n",
       "    'limit_price': None,\n",
       "    'order_type': 'market',\n",
       "    'qty': '100',\n",
       "    'side': 'buy',\n",
       "    'status': 'new',\n",
       "    'stop_price': None,\n",
       "    'submitted_at': '2019-03-12T07:59:15.536242867Z',\n",
       "    'symbol': 'TSLA',\n",
       "    'time_in_force': 'gtc',\n",
       "    'type': 'market',\n",
       "    'updated_at': '2019-03-12T07:59:15.557951461Z'})"
      ]
     },
     "execution_count": 36,
     "metadata": {},
     "output_type": "execute_result"
    }
   ],
   "source": [
    "agent.order('TSLA', 100, 'gtc')\n"
   ]
  },
  {
   "cell_type": "code",
   "execution_count": 56,
   "metadata": {},
   "outputs": [],
   "source": [
    "x = [3, 2, 1]"
   ]
  },
  {
   "cell_type": "markdown",
   "metadata": {},
   "source": [
    "# Strategist \n",
    "Sources: \n",
    "\n",
    "https://github.com/huseinzol05/Stock-Prediction-Models#agents\n",
    "\n",
    "To Do List:\n",
    "- [ ] setup basic model\n",
    "- [ ] get model working with stock of choice\n",
    "- [ ] connect bot to trading agent\n",
    "- [ ] get bot making day trades ( can be positive or negative outcome)\n",
    "- [ ] Optimize that bish\n"
   ]
  },
  {
   "cell_type": "code",
   "execution_count": 254,
   "metadata": {},
   "outputs": [
    {
     "data": {
      "text/plain": [
       "Order({   'asset_class': 'us_equity',\n",
       "    'asset_id': '8ccae427-5dd0-45b3-b5fe-7ba5e422c766',\n",
       "    'canceled_at': None,\n",
       "    'client_order_id': 'a3c3df84-8cb8-4551-a7cf-c63bb6df6f20',\n",
       "    'created_at': '2019-03-10T04:22:57.75601Z',\n",
       "    'expired_at': None,\n",
       "    'failed_at': None,\n",
       "    'filled_at': None,\n",
       "    'filled_avg_price': None,\n",
       "    'filled_qty': '0',\n",
       "    'id': '35ddc6a5-5333-4ffb-bf1a-3f072a7972b8',\n",
       "    'limit_price': None,\n",
       "    'order_type': 'market',\n",
       "    'qty': '1',\n",
       "    'side': 'buy',\n",
       "    'status': 'new',\n",
       "    'stop_price': None,\n",
       "    'submitted_at': '2019-03-10T04:22:57.751983Z',\n",
       "    'symbol': 'TSLA',\n",
       "    'time_in_force': 'gtc',\n",
       "    'type': 'market',\n",
       "    'updated_at': '2019-03-10T04:22:57.761972Z'})"
      ]
     },
     "execution_count": 254,
     "metadata": {},
     "output_type": "execute_result"
    }
   ],
   "source": [
    "order"
   ]
  },
  {
   "cell_type": "code",
   "execution_count": 10,
   "metadata": {},
   "outputs": [
    {
     "name": "stdout",
     "output_type": "stream",
     "text": [
      "America/New_York\n"
     ]
    },
    {
     "ename": "NameError",
     "evalue": "name 'ts' is not defined",
     "output_type": "error",
     "traceback": [
      "\u001b[0;31m---------------------------------------------------------------------------\u001b[0m",
      "\u001b[0;31mNameError\u001b[0m                                 Traceback (most recent call last)",
      "\u001b[0;32m<ipython-input-10-d51455eb2a03>\u001b[0m in \u001b[0;36m<module>\u001b[0;34m()\u001b[0m\n\u001b[1;32m     23\u001b[0m \u001b[0mcurrent_dt\u001b[0m \u001b[0;34m=\u001b[0m \u001b[0mdatetime\u001b[0m\u001b[0;34m.\u001b[0m\u001b[0mnow\u001b[0m\u001b[0;34m(\u001b[0m\u001b[0mtz\u001b[0m \u001b[0;34m=\u001b[0m \u001b[0mnyc\u001b[0m\u001b[0;34m)\u001b[0m\u001b[0;34m\u001b[0m\u001b[0m\n\u001b[1;32m     24\u001b[0m \u001b[0msince_market_open\u001b[0m \u001b[0;34m=\u001b[0m \u001b[0mcurrent_dt\u001b[0m \u001b[0;34m-\u001b[0m \u001b[0mmarket_open\u001b[0m\u001b[0;34m\u001b[0m\u001b[0m\n\u001b[0;32m---> 25\u001b[0;31m \u001b[0msince_market_open\u001b[0m \u001b[0;34m=\u001b[0m \u001b[0mts\u001b[0m \u001b[0;34m-\u001b[0m \u001b[0mmarket_open_dt\u001b[0m\u001b[0;34m\u001b[0m\u001b[0m\n\u001b[0m\u001b[1;32m     26\u001b[0m \u001b[0muntil_market_close\u001b[0m \u001b[0;34m=\u001b[0m \u001b[0mmarket_close_dt\u001b[0m \u001b[0;34m-\u001b[0m \u001b[0mts\u001b[0m\u001b[0;34m\u001b[0m\u001b[0m\n\u001b[1;32m     27\u001b[0m \u001b[0mts\u001b[0m \u001b[0;34m=\u001b[0m \u001b[0mdata\u001b[0m\u001b[0;34m.\u001b[0m\u001b[0mstart\u001b[0m\u001b[0;34m\u001b[0m\u001b[0m\n",
      "\u001b[0;31mNameError\u001b[0m: name 'ts' is not defined"
     ]
    }
   ],
   "source": [
    "from datetime import datetime, timedelta\n",
    "from pytz import timezone\n",
    "import pytz\n",
    "nyc = timezone('America/New_York')\n",
    "print(nyc)\n",
    "today = datetime.now(tz = nyc)\n",
    "today_str = datetime.now(tz = nyc).strftime('%Y-%m-%d')\n",
    "calendar = api.get_calendar(start=today_str, end=today_str)[0]\n",
    "market_open = today.replace(\n",
    "    hour=calendar.open.hour,\n",
    "    minute=calendar.open.minute,\n",
    "    second=0\n",
    ")\n",
    "market_open = market_open.astimezone(nyc)\n",
    "market_close = today.replace(\n",
    "    hour=calendar.close.hour,\n",
    "    minute=calendar.close.minute,\n",
    "    second=0\n",
    ")\n",
    "market_close = market_close.astimezone(nyc)\n",
    "\n",
    "    # Wait until just before we might want to trade\n",
    "current_dt = datetime.now(tz = nyc)\n",
    "since_market_open = current_dt - market_open\n",
    "since_market_open = ts - market_open_dt\n",
    "until_market_close = market_close_dt - ts\n",
    "ts = data.start\n",
    "ts -= timedelta(seconds=ts.second, microseconds=ts.microsecond)\n",
    "print(since_market_open.seconds )\n",
    "print(until_market_close.seconds)"
   ]
  },
  {
   "cell_type": "code",
   "execution_count": null,
   "metadata": {},
   "outputs": [],
   "source": []
  }
 ],
 "metadata": {
  "kernelspec": {
   "display_name": "Python 3",
   "language": "python",
   "name": "python3"
  },
  "language_info": {
   "codemirror_mode": {
    "name": "ipython",
    "version": 3
   },
   "file_extension": ".py",
   "mimetype": "text/x-python",
   "name": "python",
   "nbconvert_exporter": "python",
   "pygments_lexer": "ipython3",
   "version": "3.6.8"
  }
 },
 "nbformat": 4,
 "nbformat_minor": 2
}

{
 "cells": [
  {
   "cell_type": "code",
   "execution_count": 2,
   "metadata": {},
   "outputs": [
    {
     "name": "stdout",
     "output_type": "stream",
     "text": [
      "Help on package alpaca_trade_api:\n",
      "\n",
      "NAME\n",
      "    alpaca_trade_api\n",
      "\n",
      "PACKAGE CONTENTS\n",
      "    __main__\n",
      "    common\n",
      "    entity\n",
      "    polygon (package)\n",
      "    rest\n",
      "    stream\n",
      "    stream2\n",
      "\n",
      "VERSION\n",
      "    0.26\n",
      "\n",
      "FILE\n",
      "    c:\\users\\snoel\\anaconda3\\lib\\site-packages\\alpaca_trade_api\\__init__.py\n",
      "\n",
      "\n",
      "None\n"
     ]
    }
   ],
   "source": [
    "import alpaca_trade_api as tradeapi\n",
    "import matplotlib.pyplot as plt\n",
    "print(help(tradeapi))"
   ]
  },
  {
   "cell_type": "markdown",
   "metadata": {},
   "source": [
    "# Trading bot using Naive_bayes for decision making\n",
    "We will build a trading bot using alpaca api and a single machine learning method to make trading decisions. \n",
    "This will be a long term trading bot not a HFT or day trading bot.\n",
    "\n",
    "Alpaca Dashboard: \n",
    "https://app.alpaca.markets/paper/dashboard/overview"
   ]
  },
  {
   "cell_type": "markdown",
   "metadata": {},
   "source": [
    "# Agent\n",
    "Sources:\n",
    "\n",
    "https://github.com/alpacahq/alpaca-trade-api-python \n",
    "\n",
    "https://docs.alpaca.markets/api-documentation/\n",
    "\n",
    "https://hackernoon.com/easily-build-a-stock-trading-bot-using-broker-api-6bfbdc8d48c9\n",
    "\n",
    "To Do List:\n",
    "- [x] Connect to api\n",
    "- [X] Make a trade\n",
    "- [X] Make a bot to do a few trades during the day\n",
    "- [ ] Check that bot is working properly after a few days\n"
   ]
  },
  {
   "cell_type": "code",
   "execution_count": 6,
   "metadata": {
    "scrolled": true
   },
   "outputs": [
    {
     "name": "stdout",
     "output_type": "stream",
     "text": [
      "Status:  ACTIVE\n",
      "Cash: $ 99432.06\n",
      "Clock:  Clock({   'is_open': False,\n",
      "    'next_close': '2019-03-12T16:00:00-04:00',\n",
      "    'next_open': '2019-03-12T09:30:00-04:00',\n",
      "    'timestamp': '2019-03-11T16:03:30.78399009-04:00'})\n"
     ]
    }
   ],
   "source": [
    "class Agent():\n",
    "    def __init__(self):\n",
    "        base_url = 'https://paper-api.alpaca.markets'\n",
    "        api_key_id = 'PK8LYLKXCSISIGSFLFE7'\n",
    "        api_secret = 'YN7ovahTowJqcaHSDBNQx92P738lIfViSnhAXosa'\n",
    "\n",
    "        self.api = tradeapi.REST(\n",
    "            base_url=base_url,\n",
    "            key_id=api_key_id,\n",
    "            secret_key=api_secret\n",
    "        )\n",
    "        self.account = self.api.get_account()\n",
    "        self.assets = self.api.list_assets()\n",
    "        print(\"Status: \", self.account.status)\n",
    "        print(\"Cash: $\", self.account.cash)\n",
    "        print('Clock: ', self.api.get_clock())\n",
    "    \n",
    "    def status(self):\n",
    "        '''\n",
    "        Return:\n",
    "            - Displays status of agent\n",
    "        '''\n",
    "        print('Market Status: ', self.api.get_clock())\n",
    "        print(\"Status: \", self.account.status)\n",
    "        print(\"Positions: \", self.api.list_positions())\n",
    "        \n",
    "    def get_stock_status(self, symbol):\n",
    "        for exchange in self.assets:\n",
    "            if exchange.symbol == symbol:\n",
    "                print(exchange)\n",
    "                \n",
    "    def get_orders(self):\n",
    "        '''\n",
    "        Return: \n",
    "            - List of currently placed orders\n",
    "        '''\n",
    "        return self.api.list_orders()\n",
    "    \n",
    "    def get_positions(self):\n",
    "        '''\n",
    "        Return: \n",
    "            - List of currently owned positions\n",
    "        '''\n",
    "        return self.api.list_positions()\n",
    "        \n",
    "        \n",
    "    def get_stock_history(self, symbol, time):\n",
    "        '''\n",
    "        Parameters:\n",
    "            symbol - stock symbol for lookupo\n",
    "            time - time symbol (e.g minute, 1Min, 5Min, 15Min, day or 1D. minute)\n",
    "        Return:\n",
    "            - displays plots of Open vs Close, High vs Low      \n",
    "        '''\n",
    "        tsla_data = self.api.get_barset(symbol , time, limit = 100).df['TSLA']\n",
    "        tsla_data['open'].plot()\n",
    "        tsla_data['close'].plot()\n",
    "        plt.title('open vs close')\n",
    "        plt.show()\n",
    "        tsla_data['high'].plot()\n",
    "        tsla_data['low'].plot()\n",
    "        plt.title('High vs Low')\n",
    "        plt.show()   \n",
    "        \n",
    "    def order(self, symbol, quantity, time_in_force):\n",
    "        '''\n",
    "        Parameters:\n",
    "            symbol - stock symbol for lookupo\n",
    "            quantity - how many stocks you are buying\n",
    "            time_in_force - Order type\n",
    "                1. dat: The order is good for the day, and it will be canceled automatically at the end of Regular Trading Hours if unfilled.\n",
    "                2. gtc: The order is good until canceled.\n",
    "                3. opg: The order is placed at the time the market opens. The order will be accepted if it is received before 9:15AM (ET). \n",
    "                        The order can be cancelled after 9:15AM, but it cannot be edited. After 9:28AM, OPG orders cannot be edited or cancelled.\n",
    "                        Any unfilled orders after opening of the market will be cancelled. \n",
    "                        If you submit OPG orders during the market hours, it will appear as “rejected” in your dashboard.\n",
    "        Return:\n",
    "            order - contents and status of the order placed witht the call\n",
    "        '''\n",
    "        order = self.api.submit_order(symbol, quantity,'buy','market',time_in_force)\n",
    "        return order\n",
    "    \n",
    "    def sell(self, symbol, quantity, time_in_force):\n",
    "        '''\n",
    "        Parameters:\n",
    "            symbol - stock symbol for lookupo\n",
    "            quantity - how many stocks you are buying\n",
    "            time_in_force - Order type\n",
    "                1. dat\n",
    "                2. gtc\n",
    "                3. opg\n",
    "        Return:\n",
    "            order - contents and status of the order placed witht the call\n",
    "        '''\n",
    "        try:\n",
    "            openPosition = self.api.get_position(symbol)\n",
    "            order = self.api.submit_order(symbol, openPosition,'sell','market',time_in_force)\n",
    "            return order\n",
    "        except:\n",
    "            print(\"No position to sell\")\n",
    "            return null\n",
    "\n",
    "agent = Agent()"
   ]
  },
  {
   "cell_type": "code",
   "execution_count": 7,
   "metadata": {},
   "outputs": [
    {
     "name": "stdout",
     "output_type": "stream",
     "text": [
      "Market Status:  Clock({   'is_open': False,\n",
      "    'next_close': '2019-03-12T16:00:00-04:00',\n",
      "    'next_open': '2019-03-12T09:30:00-04:00',\n",
      "    'timestamp': '2019-03-11T16:03:30.931044936-04:00'})\n",
      "Status:  ACTIVE\n",
      "Positions:  [Position({   'asset_class': 'us_equity',\n",
      "    'asset_id': '8ccae427-5dd0-45b3-b5fe-7ba5e422c766',\n",
      "    'avg_entry_price': '283.97',\n",
      "    'change_today': '0.0235103649737796',\n",
      "    'cost_basis': '567.94',\n",
      "    'current_price': '290.81',\n",
      "    'exchange': 'NASDAQ',\n",
      "    'lastday_price': '284.13',\n",
      "    'market_value': '581.62',\n",
      "    'qty': '2',\n",
      "    'side': 'long',\n",
      "    'symbol': 'TSLA',\n",
      "    'unrealized_intraday_pl': '13.68',\n",
      "    'unrealized_intraday_plpc': '0.0240870514490967',\n",
      "    'unrealized_pl': '13.68',\n",
      "    'unrealized_plpc': '0.0240870514490967'})]\n",
      "Asset({   'asset_class': 'us_equity',\n",
      "    'exchange': 'NASDAQ',\n",
      "    'id': '8ccae427-5dd0-45b3-b5fe-7ba5e422c766',\n",
      "    'status': 'active',\n",
      "    'symbol': 'TSLA',\n",
      "    'tradable': True})\n"
     ]
    }
   ],
   "source": [
    "agent.status()\n",
    "agent.get_stock_status('TSLA')"
   ]
  },
  {
   "cell_type": "code",
   "execution_count": 8,
   "metadata": {},
   "outputs": [],
   "source": [
    "checked = []\n",
    "for order in agent.get_orders():\n",
    "    if order.symbol not in checked:\n",
    "        agent.get_stock_history(order.symbol , 'minute')\n",
    "    checked.append(order.symbol)"
   ]
  },
  {
   "cell_type": "code",
   "execution_count": 9,
   "metadata": {},
   "outputs": [
    {
     "data": {
      "text/plain": [
       "Order({   'asset_class': 'us_equity',\n",
       "    'asset_id': '8ccae427-5dd0-45b3-b5fe-7ba5e422c766',\n",
       "    'canceled_at': None,\n",
       "    'client_order_id': '3b1c9a95-341e-44d3-913e-8d232b8d7c8a',\n",
       "    'created_at': '2019-03-11T20:03:44.088347739Z',\n",
       "    'expired_at': None,\n",
       "    'failed_at': None,\n",
       "    'filled_at': None,\n",
       "    'filled_avg_price': None,\n",
       "    'filled_qty': '0',\n",
       "    'id': '3b992caa-81ab-4202-883a-2d08a514e551',\n",
       "    'limit_price': None,\n",
       "    'order_type': 'market',\n",
       "    'qty': '100',\n",
       "    'side': 'buy',\n",
       "    'status': 'new',\n",
       "    'stop_price': None,\n",
       "    'submitted_at': '2019-03-11T20:03:44.082719115Z',\n",
       "    'symbol': 'TSLA',\n",
       "    'time_in_force': 'gtc',\n",
       "    'type': 'market',\n",
       "    'updated_at': '2019-03-11T20:03:44.094101038Z'})"
      ]
     },
     "execution_count": 9,
     "metadata": {},
     "output_type": "execute_result"
    }
   ],
   "source": [
    "agent.order('TSLA', 100, 'gtc')\n"
   ]
  },
  {
   "cell_type": "markdown",
   "metadata": {},
   "source": [
    "# Strategist \n",
    "Sources: \n",
    "\n",
    "https://github.com/huseinzol05/Stock-Prediction-Models#agents\n",
    "\n",
    "To Do List:\n",
    "- [ ] setup basic model\n",
    "- [ ] get model working with stock of choice\n",
    "- [ ] connect bot to trading agent\n",
    "- [ ] get bot making day trades ( can be positive or negative outcome)\n",
    "- [ ] Optimize that bish\n"
   ]
  },
  {
   "cell_type": "code",
   "execution_count": 254,
   "metadata": {},
   "outputs": [
    {
     "data": {
      "text/plain": [
       "Order({   'asset_class': 'us_equity',\n",
       "    'asset_id': '8ccae427-5dd0-45b3-b5fe-7ba5e422c766',\n",
       "    'canceled_at': None,\n",
       "    'client_order_id': 'a3c3df84-8cb8-4551-a7cf-c63bb6df6f20',\n",
       "    'created_at': '2019-03-10T04:22:57.75601Z',\n",
       "    'expired_at': None,\n",
       "    'failed_at': None,\n",
       "    'filled_at': None,\n",
       "    'filled_avg_price': None,\n",
       "    'filled_qty': '0',\n",
       "    'id': '35ddc6a5-5333-4ffb-bf1a-3f072a7972b8',\n",
       "    'limit_price': None,\n",
       "    'order_type': 'market',\n",
       "    'qty': '1',\n",
       "    'side': 'buy',\n",
       "    'status': 'new',\n",
       "    'stop_price': None,\n",
       "    'submitted_at': '2019-03-10T04:22:57.751983Z',\n",
       "    'symbol': 'TSLA',\n",
       "    'time_in_force': 'gtc',\n",
       "    'type': 'market',\n",
       "    'updated_at': '2019-03-10T04:22:57.761972Z'})"
      ]
     },
     "execution_count": 254,
     "metadata": {},
     "output_type": "execute_result"
    }
   ],
   "source": [
    "order"
   ]
  }
 ],
 "metadata": {
  "kernelspec": {
   "display_name": "Python 3",
   "language": "python",
   "name": "python3"
  },
  "language_info": {
   "codemirror_mode": {
    "name": "ipython",
    "version": 3
   },
   "file_extension": ".py",
   "mimetype": "text/x-python",
   "name": "python",
   "nbconvert_exporter": "python",
   "pygments_lexer": "ipython3",
   "version": "3.6.5"
  }
 },
 "nbformat": 4,
 "nbformat_minor": 2
}

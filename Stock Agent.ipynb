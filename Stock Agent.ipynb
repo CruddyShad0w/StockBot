{
 "cells": [
  {
   "cell_type": "code",
   "execution_count": 222,
   "metadata": {},
   "outputs": [
    {
     "name": "stdout",
     "output_type": "stream",
     "text": [
      "Help on REST in module alpaca_trade_api.rest object:\n",
      "\n",
      "class REST(builtins.object)\n",
      " |  Methods defined here:\n",
      " |  \n",
      " |  __init__(self, key_id=None, secret_key=None, base_url=None, api_version=None)\n",
      " |      Initialize self.  See help(type(self)) for accurate signature.\n",
      " |  \n",
      " |  cancel_order(self, order_id)\n",
      " |      Cancel an order\n",
      " |  \n",
      " |  data_get(self, path, data=None)\n",
      " |  \n",
      " |  delete(self, path, data=None)\n",
      " |  \n",
      " |  get(self, path, data=None)\n",
      " |  \n",
      " |  get_account(self)\n",
      " |      Get the account\n",
      " |  \n",
      " |  get_asset(self, symbol)\n",
      " |      Get an asset\n",
      " |  \n",
      " |  get_barset(self, symbols, timeframe, limit=None, start=None, end=None, after=None, until=None)\n",
      " |      Get BarSet(dict[str]->list[Bar])\n",
      " |      The parameter symbols can be either a comma-split string\n",
      " |      or a list of string. Each symbol becomes the key of\n",
      " |      the returned value.\n",
      " |  \n",
      " |  get_calendar(self, start=None, end=None)\n",
      " |  \n",
      " |  get_clock(self)\n",
      " |  \n",
      " |  get_order(self, order_id)\n",
      " |      Get an order\n",
      " |  \n",
      " |  get_order_by_client_order_id(self, client_order_id)\n",
      " |      Get an order by client order id\n",
      " |  \n",
      " |  get_position(self, symbol)\n",
      " |      Get an open position\n",
      " |  \n",
      " |  list_assets(self, status=None, asset_class=None)\n",
      " |      Get a list of assets\n",
      " |  \n",
      " |  list_orders(self, status=None, limit=None, after=None, until=None, direction=None, params=None)\n",
      " |      Get a list of orders\n",
      " |      https://docs.alpaca.markets/web-api/orders/#get-a-list-of-orders\n",
      " |  \n",
      " |  list_positions(self)\n",
      " |      Get a list of open positions\n",
      " |  \n",
      " |  post(self, path, data=None)\n",
      " |  \n",
      " |  submit_order(self, symbol, qty, side, type, time_in_force, limit_price=None, stop_price=None, client_order_id=None)\n",
      " |      Request a new order\n",
      " |  \n",
      " |  ----------------------------------------------------------------------\n",
      " |  Data descriptors defined here:\n",
      " |  \n",
      " |  __dict__\n",
      " |      dictionary for instance variables (if defined)\n",
      " |  \n",
      " |  __weakref__\n",
      " |      list of weak references to the object (if defined)\n",
      "\n",
      "None\n"
     ]
    }
   ],
   "source": [
    "import alpaca_trade_api as tradeapi\n",
    "import matplotlib.pyplot as plt\n",
    "print(help(api))"
   ]
  },
  {
   "cell_type": "markdown",
   "metadata": {},
   "source": [
    "# Trading bot using Naive_bayes for decision making\n",
    "We will build a trading bot using alpaca api and a single machine learning method to make trading decisions. \n",
    "This will be a long term trading bot not a HFT or day trading bot.\n",
    "\n",
    "Alpaca Dashboard: \n",
    "https://app.alpaca.markets/paper/dashboard/overview"
   ]
  },
  {
   "cell_type": "markdown",
   "metadata": {},
   "source": [
    "# Agent\n",
    "Sources:\n",
    "\n",
    "https://github.com/alpacahq/alpaca-trade-api-python \n",
    "\n",
    "https://docs.alpaca.markets/api-documentation/\n",
    "\n",
    "https://hackernoon.com/easily-build-a-stock-trading-bot-using-broker-api-6bfbdc8d48c9\n",
    "\n",
    "To Do List:\n",
    "- [x] Connect to api\n",
    "- [X] Make a trade\n",
    "- [X] Make a bot to do a few trades during the day\n",
    "- [ ] Check that bot is working properly after a few days\n"
   ]
  },
  {
   "cell_type": "code",
   "execution_count": 268,
   "metadata": {
    "scrolled": true
   },
   "outputs": [
    {
     "name": "stdout",
     "output_type": "stream",
     "text": [
      "Status:  ACTIVE\n",
      "Cash: $ 100000\n",
      "Clock:  Clock({   'is_open': False,\n",
      "    'next_close': '2019-03-11T16:00:00-04:00',\n",
      "    'next_open': '2019-03-11T09:30:00-04:00',\n",
      "    'timestamp': '2019-03-10T00:42:41.198345825-05:00'})\n"
     ]
    }
   ],
   "source": [
    "class Agent():\n",
    "    def __init__(self):\n",
    "        base_url = 'https://paper-api.alpaca.markets'\n",
    "        api_key_id = 'PK8LYLKXCSISIGSFLFE7'\n",
    "        api_secret = 'YN7ovahTowJqcaHSDBNQx92P738lIfViSnhAXosa'\n",
    "\n",
    "        api = tradeapi.REST(\n",
    "            base_url=base_url,\n",
    "            key_id=api_key_id,\n",
    "            secret_key=api_secret\n",
    "        )\n",
    "        account = api.get_account()\n",
    "        assets = api.list_assets()\n",
    "        print(\"Status: \", account.status)\n",
    "        print(\"Cash: $\", account.cash)\n",
    "        print('Clock: ', api.get_clock())\n",
    "    \n",
    "    def status(self):\n",
    "        '''\n",
    "        Return:\n",
    "            - Displays status of agent\n",
    "        '''\n",
    "        print('Market Status: ', api.get_clock())\n",
    "        print(\"Status: \", account.status)\n",
    "        print(\"Positions: \", api.list_positions())\n",
    "        \n",
    "    def get_stock_status(self, symbol):\n",
    "        for exchange in assets:\n",
    "            if exchange.symbol == symbol:\n",
    "                print(exchange)\n",
    "                \n",
    "    def get_orders(self):\n",
    "        '''\n",
    "        Return: \n",
    "            - List of currently placed orders\n",
    "        '''\n",
    "        return api.list_orders()\n",
    "    \n",
    "    def get_positions(self):\n",
    "        '''\n",
    "        Return: \n",
    "            - List of currently owned positions\n",
    "        '''\n",
    "        return api.list_positions()\n",
    "        \n",
    "        \n",
    "    def get_stock_history(self, symbol, time):\n",
    "        '''\n",
    "        Parameters:\n",
    "            symbol - stock symbol for lookupo\n",
    "            time - time symbol (e.g minute, 1Min, 5Min, 15Min, day or 1D. minute)\n",
    "        Return:\n",
    "            - displays plots of Open vs Close, High vs Low      \n",
    "        '''\n",
    "        tsla_data = api.get_barset(symbol , time, limit = 100).df['TSLA']\n",
    "        tsla_data['open'].plot()\n",
    "        tsla_data['close'].plot()\n",
    "        plt.title('open vs close')\n",
    "        plt.show()\n",
    "        tsla_data['high'].plot()\n",
    "        tsla_data['low'].plot()\n",
    "        plt.title('High vs Low')\n",
    "        plt.show()   \n",
    "        \n",
    "    def order(self, symbol, quantity, time_in_force):\n",
    "        '''\n",
    "        Parameters:\n",
    "            symbol - stock symbol for lookupo\n",
    "            quantity - how many stocks you are buying\n",
    "            time_in_force - Order type\n",
    "                1. dat: The order is good for the day, and it will be canceled automatically at the end of Regular Trading Hours if unfilled.\n",
    "                2. gtc: The order is good until canceled.\n",
    "                3. opg: The order is placed at the time the market opens. The order will be accepted if it is received before 9:15AM (ET). \n",
    "                        The order can be cancelled after 9:15AM, but it cannot be edited. After 9:28AM, OPG orders cannot be edited or cancelled.\n",
    "                        Any unfilled orders after opening of the market will be cancelled. \n",
    "                        If you submit OPG orders during the market hours, it will appear as “rejected” in your dashboard.\n",
    "        Return:\n",
    "            order - contents and status of the order placed witht the call\n",
    "        '''\n",
    "        order = api.submit_order(symbol, quantity,'buy','market',time_in_force)\n",
    "        return order\n",
    "    \n",
    "    def sell(self, symbol, quantity, time_in_force):\n",
    "        '''\n",
    "        Parameters:\n",
    "            symbol - stock symbol for lookupo\n",
    "            quantity - how many stocks you are buying\n",
    "            time_in_force - Order type\n",
    "                1. dat\n",
    "                2. gtc\n",
    "                3. opg\n",
    "        Return:\n",
    "            order - contents and status of the order placed witht the call\n",
    "        '''\n",
    "        try:\n",
    "            openPosition = api.get_position(symbol)\n",
    "            order = api.submit_order(symbol, openPosition,'sell','market',time_in_force)\n",
    "            return order\n",
    "        except:\n",
    "            print(\"No position to sell\")\n",
    "            return null\n",
    "\n",
    "agent = Agent()"
   ]
  },
  {
   "cell_type": "code",
   "execution_count": 260,
   "metadata": {},
   "outputs": [
    {
     "name": "stdout",
     "output_type": "stream",
     "text": [
      "Market Status:  Clock({   'is_open': False,\n",
      "    'next_close': '2019-03-11T16:00:00-04:00',\n",
      "    'next_open': '2019-03-11T09:30:00-04:00',\n",
      "    'timestamp': '2019-03-10T00:38:18.317019639-05:00'})\n",
      "Status:  ACTIVE\n",
      "Positions:  []\n",
      "Asset({   'asset_class': 'us_equity',\n",
      "    'exchange': 'NASDAQ',\n",
      "    'id': '8ccae427-5dd0-45b3-b5fe-7ba5e422c766',\n",
      "    'status': 'active',\n",
      "    'symbol': 'TSLA',\n",
      "    'tradable': True})\n"
     ]
    }
   ],
   "source": [
    "agent.status()\n",
    "agent.get_stock_status('TSLA')"
   ]
  },
  {
   "cell_type": "code",
   "execution_count": 266,
   "metadata": {},
   "outputs": [
    {
     "data": {
      "image/png": "[encoded data removed]",
      "text/plain": [
       "<Figure size 432x288 with 1 Axes>"
      ]
     },
     "metadata": {
      "needs_background": "light"
     },
     "output_type": "display_data"
    },
    {
     "data": {
      "image/png": "[encoded data removed]",
      "text/plain": [
       "<Figure size 432x288 with 1 Axes>"
      ]
     },
     "metadata": {
      "needs_background": "light"
     },
     "output_type": "display_data"
    }
   ],
   "source": [
    "checked = []\n",
    "for order in agent.get_orders():\n",
    "    if order.symbol not in checked:\n",
    "        agent.get_stock_history(order.symbol , 'minute')\n",
    "    checked.append(order.symbol)"
   ]
  },
  {
   "cell_type": "code",
   "execution_count": 137,
   "metadata": {},
   "outputs": [],
   "source": [
    "agent.order('TSLA', 1, 'gtc')\n",
    "agent.sell('TSLA', 1, 'gtc')"
   ]
  },
  {
   "cell_type": "markdown",
   "metadata": {},
   "source": [
    "# Strategist \n",
    "Sources: \n",
    "\n",
    "https://github.com/huseinzol05/Stock-Prediction-Models#agents\n",
    "\n",
    "To Do List:\n",
    "- [ ] setup basic model\n",
    "- [ ] get model working with stock of choice\n",
    "- [ ] connect bot to trading agent\n",
    "- [ ] get bot making day trades ( can be positive or negative outcome)\n",
    "- [ ] Optimize that bish\n"
   ]
  },
  {
   "cell_type": "code",
   "execution_count": 254,
   "metadata": {},
   "outputs": [
    {
     "data": {
      "text/plain": [
       "Order({   'asset_class': 'us_equity',\n",
       "    'asset_id': '8ccae427-5dd0-45b3-b5fe-7ba5e422c766',\n",
       "    'canceled_at': None,\n",
       "    'client_order_id': 'a3c3df84-8cb8-4551-a7cf-c63bb6df6f20',\n",
       "    'created_at': '2019-03-10T04:22:57.75601Z',\n",
       "    'expired_at': None,\n",
       "    'failed_at': None,\n",
       "    'filled_at': None,\n",
       "    'filled_avg_price': None,\n",
       "    'filled_qty': '0',\n",
       "    'id': '35ddc6a5-5333-4ffb-bf1a-3f072a7972b8',\n",
       "    'limit_price': None,\n",
       "    'order_type': 'market',\n",
       "    'qty': '1',\n",
       "    'side': 'buy',\n",
       "    'status': 'new',\n",
       "    'stop_price': None,\n",
       "    'submitted_at': '2019-03-10T04:22:57.751983Z',\n",
       "    'symbol': 'TSLA',\n",
       "    'time_in_force': 'gtc',\n",
       "    'type': 'market',\n",
       "    'updated_at': '2019-03-10T04:22:57.761972Z'})"
      ]
     },
     "execution_count": 254,
     "metadata": {},
     "output_type": "execute_result"
    }
   ],
   "source": [
    "order"
   ]
  }
 ],
 "metadata": {
  "kernelspec": {
   "display_name": "Python 3",
   "language": "python",
   "name": "python3"
  },
  "language_info": {
   "codemirror_mode": {
    "name": "ipython",
    "version": 3
   },
   "file_extension": ".py",
   "mimetype": "text/x-python",
   "name": "python",
   "nbconvert_exporter": "python",
   "pygments_lexer": "ipython3",
   "version": "3.6.6"
  }
 },
 "nbformat": 4,
 "nbformat_minor": 2
}
